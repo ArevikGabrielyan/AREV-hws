{
 "cells": [
  {
   "cell_type": "code",
   "execution_count": 6,
   "metadata": {},
   "outputs": [
    {
     "name": "stdout",
     "output_type": "stream",
     "text": [
      "6\n"
     ]
    }
   ],
   "source": [
    "list1 = [3, 6, True, True, -1, 'abc', (1, 2), [2, 3], 6]\n",
    "for i in range(len(list1)):\n",
    "    if type(list1[i])==tuple:\n",
    "        print(i)\n",
    "        break"
   ]
  },
  {
   "cell_type": "code",
   "execution_count": 5,
   "metadata": {},
   "outputs": [
    {
     "name": "stdout",
     "output_type": "stream",
     "text": [
      "Enter username: asas\n",
      "Enter password: saa\n",
      "Please try again\n",
      "Enter username: dsa\n",
      "Enter password: sads\n",
      "Please try again\n",
      "Enter username: Batman\n",
      "Enter password: I am Batman\n",
      "welcome\n"
     ]
    }
   ],
   "source": [
    "username = 'Batman'\n",
    "password = 'I am Batman'\n",
    "while True:\n",
    "    username1 = input (\"Enter username: \")\n",
    "    password1 = input (\"Enter password: \")\n",
    "    if username1 == username and password1 == password:\n",
    "        print('welcome')\n",
    "        break\n",
    "    else:\n",
    "        print(\"Please try again\")"
   ]
  },
  {
   "cell_type": "code",
   "execution_count": 1,
   "metadata": {},
   "outputs": [
    {
     "name": "stdout",
     "output_type": "stream",
     "text": [
      "[[1, 0, 0, 0], [0, 1, 0, 0], [0, 0, 1, 0], [0, 0, 0, 1]]\n"
     ]
    }
   ],
   "source": [
    "list1 = [[0]*4 for i in range(4)]\n",
    "list1\n",
    "for i in range(len(list1)):\n",
    "    list1[i][i]=1\n",
    "print(list1)"
   ]
  },
  {
   "cell_type": "code",
   "execution_count": 1,
   "metadata": {},
   "outputs": [
    {
     "name": "stdout",
     "output_type": "stream",
     "text": [
      "number: 5\n",
      "120\n"
     ]
    }
   ],
   "source": [
    "'''Extra 2'''\n",
    "\n",
    "number=int(input('number: '))\n",
    "factorial=1\n",
    "for i in range(1,number+1):\n",
    "    factorial = factorial*i\n",
    "print(factorial)"
   ]
  }
 ],
 "metadata": {
  "kernelspec": {
   "display_name": "Python 3",
   "language": "python",
   "name": "python3"
  },
  "language_info": {
   "codemirror_mode": {
    "name": "ipython",
    "version": 3
   },
   "file_extension": ".py",
   "mimetype": "text/x-python",
   "name": "python",
   "nbconvert_exporter": "python",
   "pygments_lexer": "ipython3",
   "version": "3.6.5"
  }
 },
 "nbformat": 4,
 "nbformat_minor": 2
}
