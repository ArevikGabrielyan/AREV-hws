{
 "cells": [
  {
   "cell_type": "code",
   "execution_count": 1,
   "metadata": {},
   "outputs": [
    {
     "name": "stdout",
     "output_type": "stream",
     "text": [
      "No module named 's'\n",
      "Sorry, this module does not exist\n"
     ]
    }
   ],
   "source": [
    "try:\n",
    "    import s\n",
    "    print('this module exists')\n",
    "except ModuleNotFoundError as e:\n",
    "    print(e)\n",
    "    print('Sorry, this module does not exist')\n"
   ]
  },
  {
   "cell_type": "code",
   "execution_count": 12,
   "metadata": {},
   "outputs": [
    {
     "name": "stdout",
     "output_type": "stream",
     "text": [
      "the entry is a\n",
      "unsupported operand type(s) for /: 'int' and 'str'\n",
      "the entry is 0\n",
      "division by zero\n",
      "the entry is 2\n",
      "1 / 2 = 0.5\n"
     ]
    }
   ],
   "source": [
    "l =['a',0,2]\n",
    "for i in l:\n",
    "    try:\n",
    "        print('the entry is', i)\n",
    "        print('1', '/', i ,'=', 1/i)\n",
    "   \n",
    "    except Exception as e:\n",
    "        print(e)"
   ]
  },
  {
   "cell_type": "code",
   "execution_count": 9,
   "metadata": {},
   "outputs": [
    {
     "name": "stdout",
     "output_type": "stream",
     "text": [
      "Enter username: Rambo\n",
      "name 'MyException' is not defined\n"
     ]
    }
   ],
   "source": [
    "username = input(\"Enter username: \")\n",
    "try:\n",
    "    if username == \"Rambo\":\n",
    "        raise MyException(\"Rambo username found\")\n",
    "    else:\n",
    "        print(\"welcome\", username)\n",
    "        v = q\n",
    "\n",
    "except Exception as e:\n",
    "    print(e)\n",
    " "
   ]
  }
 ],
 "metadata": {
  "kernelspec": {
   "display_name": "Python 3",
   "language": "python",
   "name": "python3"
  },
  "language_info": {
   "codemirror_mode": {
    "name": "ipython",
    "version": 3
   },
   "file_extension": ".py",
   "mimetype": "text/x-python",
   "name": "python",
   "nbconvert_exporter": "python",
   "pygments_lexer": "ipython3",
   "version": "3.6.5"
  }
 },
 "nbformat": 4,
 "nbformat_minor": 2
}
