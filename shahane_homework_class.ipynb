{
 "cells": [
  {
   "cell_type": "code",
   "execution_count": 66,
   "metadata": {},
   "outputs": [
    {
     "name": "stdout",
     "output_type": "stream",
     "text": [
      "Welcome dear Jon\n",
      "James\n",
      "time:  0.0\n",
      "Bye everyone!\n",
      "My favourite number is : 7\n",
      "My favourite number is : 21\n"
     ]
    }
   ],
   "source": [
    "import time\n",
    "def decorator(func):\n",
    "   def wrapper(*args, **kwarg):\n",
    "      t1 = time.time()\n",
    "      func(*args, **kwarg)\n",
    "      t2 = time.time()\n",
    "      print('time: ', t2-t1)\n",
    "   return wrapper\n",
    "\n",
    "class Person:\n",
    "  def __init__(self, name , last_name , age , gender , student):\n",
    "      self.name = name\n",
    "      self.last_name = last_name\n",
    "      self.age = age\n",
    "      self.gender = gender\n",
    "      self.student = student\n",
    "\n",
    "\n",
    "  @decorator\n",
    "\n",
    "  def Greeting(self, second_person):\n",
    "\n",
    "       print('Welcome dear', second_person.name)\n",
    "       print(self.name)\n",
    "\n",
    "  def Goodbye(self):\n",
    "       print('Bye everyone!')\n",
    "\n",
    "  def Favourite_num(self, num1):\n",
    "       print('My favourite number is :', num1)\n",
    "\n",
    "\n",
    "person1 = Person('James',   'Bond',  20,   'male',   True)\n",
    "person2 = Person('Jon', 'Green', 21, 'male', True)\n",
    "person1.Greeting(person2)\n",
    "person1.Goodbye()\n",
    "person1.Favourite_num(7)\n",
    "person2.Favourite_num(21)"
   ]
  }
 ],
 "metadata": {
  "kernelspec": {
   "display_name": "Python 3",
   "language": "python",
   "name": "python3"
  },
  "language_info": {
   "codemirror_mode": {
    "name": "ipython",
    "version": 3
   },
   "file_extension": ".py",
   "mimetype": "text/x-python",
   "name": "python",
   "nbconvert_exporter": "python",
   "pygments_lexer": "ipython3",
   "version": "3.6.5"
  }
 },
 "nbformat": 4,
 "nbformat_minor": 2
}
