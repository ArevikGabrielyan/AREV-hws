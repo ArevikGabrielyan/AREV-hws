{
 "cells": [
  {
   "cell_type": "code",
   "execution_count": 9,
   "metadata": {},
   "outputs": [
    {
     "name": "stdout",
     "output_type": "stream",
     "text": [
      "index out of range!\n"
     ]
    }
   ],
   "source": [
    "#1\n",
    "l1 = [1, 2, 3, 4, 5]\n",
    "try:\n",
    "    print(l1[7])\n",
    "    \n",
    "except IndexError:\n",
    "    print('index out of range!')\n",
    "    "
   ]
  },
  {
   "cell_type": "code",
   "execution_count": 10,
   "metadata": {},
   "outputs": [
    {
     "name": "stdout",
     "output_type": "stream",
     "text": [
      "Monday\n",
      "Tuesday\n",
      "Wednesday\n",
      "Thursday\n",
      "index out of range!\n"
     ]
    }
   ],
   "source": [
    "#2\n",
    "list1 = ['Monday', 'Tuesday', 'Wednesday', 'Thursday']\n",
    "for i in range(5):\n",
    "    try:\n",
    "        \n",
    "        print(list1[i])\n",
    "    except IndexError:\n",
    "        print('index out of range!')\n",
    "    \n",
    "    \n",
    "    "
   ]
  },
  {
   "cell_type": "code",
   "execution_count": 7,
   "metadata": {},
   "outputs": [
    {
     "name": "stdout",
     "output_type": "stream",
     "text": [
      "2.5\n",
      "value error!, x\n",
      "5\n",
      "0\n",
      "division by zero!\n",
      "5\n",
      "2.5\n",
      "value error!, x\n"
     ]
    }
   ],
   "source": [
    "#3\n",
    "for i in range(3):\n",
    "    try:\n",
    "        \n",
    "        x = int(input())\n",
    "        y = int(input())\n",
    "        print(x, '/', y, '=',x/y)\n",
    "        \n",
    "    except ZeroDivisionError:\n",
    "        print('division by zero!')\n",
    "        \n",
    "    except ValueError:\n",
    "        print(\"value error!, x\")\n",
    "        \n",
    "    except ValueError:\n",
    "        print(\"value error!, y\")\n",
    "        \n",
    "    "
   ]
  },
  {
   "cell_type": "code",
   "execution_count": 8,
   "metadata": {},
   "outputs": [
    {
     "name": "stdout",
     "output_type": "stream",
     "text": [
      "'int' object has no attribute 'name'\n"
     ]
    }
   ],
   "source": [
    "#4\n",
    "a = 10\n",
    "try:\n",
    "    \n",
    "    a.name\n",
    "except Exception as e:\n",
    "        print(e)\n",
    "        \n",
    "except AttributeError:\n",
    "    print(\" 'int'  object has no attribute 'name' \")\n"
   ]
  }
 ],
 "metadata": {
  "kernelspec": {
   "display_name": "Python 3",
   "language": "python",
   "name": "python3"
  },
  "language_info": {
   "codemirror_mode": {
    "name": "ipython",
    "version": 3
   },
   "file_extension": ".py",
   "mimetype": "text/x-python",
   "name": "python",
   "nbconvert_exporter": "python",
   "pygments_lexer": "ipython3",
   "version": "3.6.5"
  }
 },
 "nbformat": 4,
 "nbformat_minor": 2
}
